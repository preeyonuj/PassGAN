{
 "cells": [
  {
   "cell_type": "code",
   "execution_count": 19,
   "id": "a0c91c47",
   "metadata": {},
   "outputs": [],
   "source": [
    "import numpy as np\n",
    "import random\n",
    "\n",
    "from IPython.core.interactiveshell import InteractiveShell\n",
    "InteractiveShell.ast_node_interactivity = \"all\""
   ]
  },
  {
   "cell_type": "markdown",
   "id": "9f22d2ba",
   "metadata": {},
   "source": [
    "# Import and Preprocessing"
   ]
  },
  {
   "cell_type": "code",
   "execution_count": 24,
   "id": "f50c5c57",
   "metadata": {},
   "outputs": [],
   "source": [
    "# Import all passwords\n",
    "passwords = []\n",
    "with open(r\"rockyou.txt\", 'rb') as f:\n",
    "    passwords = f.readlines()"
   ]
  },
  {
   "cell_type": "code",
   "execution_count": 25,
   "id": "5238e70e",
   "metadata": {},
   "outputs": [
    {
     "name": "stdout",
     "output_type": "stream",
     "text": [
      "Number of passwords: (2013695,)\n"
     ]
    }
   ],
   "source": [
    "# Remove line characters\n",
    "passwords = [i[:-1] for i in passwords]\n",
    "\n",
    "# choose passwords with length 10\n",
    "passwords = [i for i in passwords if len(i) == 10]\n",
    "\n",
    "print(\"Number of passwords:\", np.shape(passwords))"
   ]
  },
  {
   "cell_type": "markdown",
   "id": "928f305e",
   "metadata": {},
   "source": [
    "# Split data"
   ]
  },
  {
   "cell_type": "code",
   "execution_count": 26,
   "id": "6c66747c",
   "metadata": {},
   "outputs": [],
   "source": [
    "# Shuffling the data\n",
    "random.shuffle(passwords)\n",
    "\n",
    "# Train and test data\n",
    "train_pass = passwords[:int(0.80*len(passwords))]\n",
    "test_pass = passwords[int(0.80*len(passwords)):]"
   ]
  },
  {
   "cell_type": "markdown",
   "id": "21a1fe55",
   "metadata": {},
   "source": [
    "# "
   ]
  }
 ],
 "metadata": {
  "kernelspec": {
   "display_name": "Python 3",
   "language": "python",
   "name": "python3"
  },
  "language_info": {
   "codemirror_mode": {
    "name": "ipython",
    "version": 3
   },
   "file_extension": ".py",
   "mimetype": "text/x-python",
   "name": "python",
   "nbconvert_exporter": "python",
   "pygments_lexer": "ipython3",
   "version": "3.9.2"
  }
 },
 "nbformat": 4,
 "nbformat_minor": 5
}
